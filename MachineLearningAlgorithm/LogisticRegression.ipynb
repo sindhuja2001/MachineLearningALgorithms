{
  "nbformat": 4,
  "nbformat_minor": 0,
  "metadata": {
    "colab": {
      "provenance": []
    },
    "kernelspec": {
      "name": "python3",
      "display_name": "Python 3"
    },
    "language_info": {
      "name": "python"
    }
  },
  "cells": [
    {
      "cell_type": "code",
      "execution_count": 2,
      "metadata": {
        "id": "8qiBggMM-oWC"
      },
      "outputs": [],
      "source": [
        "import numpy as np\n",
        "import pandas as pd\n",
        "import matplotlib.pyplot as plt"
      ]
    },
    {
      "cell_type": "code",
      "source": [
        "X_train= pd.read_csv('train_X.csv')\n",
        "Y_train= pd.read_csv('train_Y.csv')\n",
        "X_test= pd.read_csv('test_X.csv')\n",
        "Y_test= pd.read_csv('test_Y.csv')"
      ],
      "metadata": {
        "id": "_W6fxoD-Ffe6"
      },
      "execution_count": 4,
      "outputs": []
    },
    {
      "cell_type": "code",
      "source": [
        "X_train.head()"
      ],
      "metadata": {
        "colab": {
          "base_uri": "https://localhost:8080/",
          "height": 165
        },
        "id": "ImAMbKigGEfh",
        "outputId": "1c574396-7ab0-4610-bde3-811d41d448c9"
      },
      "execution_count": 39,
      "outputs": [
        {
          "output_type": "error",
          "ename": "AttributeError",
          "evalue": "ignored",
          "traceback": [
            "\u001b[0;31m---------------------------------------------------------------------------\u001b[0m",
            "\u001b[0;31mAttributeError\u001b[0m                            Traceback (most recent call last)",
            "\u001b[0;32m<ipython-input-39-73020798007e>\u001b[0m in \u001b[0;36m<module>\u001b[0;34m\u001b[0m\n\u001b[0;32m----> 1\u001b[0;31m \u001b[0mX_train\u001b[0m\u001b[0;34m.\u001b[0m\u001b[0mhead\u001b[0m\u001b[0;34m(\u001b[0m\u001b[0;34m)\u001b[0m\u001b[0;34m\u001b[0m\u001b[0;34m\u001b[0m\u001b[0m\n\u001b[0m",
            "\u001b[0;31mAttributeError\u001b[0m: 'numpy.ndarray' object has no attribute 'head'"
          ]
        }
      ]
    },
    {
      "cell_type": "code",
      "source": [
        "X_train= X_train.drop(\"Id\", axis= 1)\n",
        "Y_train= Y_train.drop(\"Id\", axis= 1)\n",
        "X_test= X_test.drop(\"Id\", axis= 1)\n",
        "Y_test= Y_test.drop(\"Id\", axis= 1)"
      ],
      "metadata": {
        "id": "5YKGHi0_GJdD"
      },
      "execution_count": 6,
      "outputs": []
    },
    {
      "cell_type": "code",
      "source": [
        "X_train= X_train.values\n",
        "Y_train= Y_train.values\n",
        "X_test= X_test.values\n",
        "Y_test= Y_test.values"
      ],
      "metadata": {
        "id": "deEfxWtwGc_X"
      },
      "execution_count": 7,
      "outputs": []
    },
    {
      "cell_type": "code",
      "source": [
        "X_train= X_train.T\n",
        "Y_train= Y_train.reshape(1, X_train.shape[1])\n",
        "X_test= X_test.T\n",
        "Y_test= Y_test.reshape(1, X_test.shape[1])"
      ],
      "metadata": {
        "id": "y5586ow8Gruh"
      },
      "execution_count": 8,
      "outputs": []
    },
    {
      "cell_type": "code",
      "source": [
        "print(X_train.shape)\n",
        "print(Y_train.shape)\n",
        "print(X_test.shape)\n",
        "print(Y_test.shape)\n"
      ],
      "metadata": {
        "colab": {
          "base_uri": "https://localhost:8080/"
        },
        "id": "tNoGDo4SHBC1",
        "outputId": "b16218ee-82a7-4712-a389-2e72e25f31a6"
      },
      "execution_count": 9,
      "outputs": [
        {
          "output_type": "stream",
          "name": "stdout",
          "text": [
            "(7, 891)\n",
            "(1, 891)\n",
            "(7, 418)\n",
            "(1, 418)\n"
          ]
        }
      ]
    },
    {
      "cell_type": "code",
      "source": [
        "def model(X, Y, learning_rate, iterations):\n",
        "    \n",
        "    m = X_train.shape[1]\n",
        "    n = X_train.shape[0]\n",
        "    \n",
        "    W = np.zeros((n,1))\n",
        "    B = 0\n",
        "    \n",
        "    cost_list = []\n",
        "    \n",
        "    for i in range(iterations):\n",
        "        \n",
        "        Z = np.dot(W.T, X) + B\n",
        "        A = sigmoid(Z)\n",
        "        \n",
        "        # cost function\n",
        "        cost = -(1/m)*np.sum( Y*np.log(A) + (1-Y)*np.log(1-A))\n",
        "        \n",
        "        # Gradient Descent\n",
        "        dW = (1/m)*np.dot(A-Y, X.T)\n",
        "        dB = (1/m)*np.sum(A - Y)\n",
        "        \n",
        "        W = W - learning_rate*dW.T\n",
        "        B = B - learning_rate*dB\n",
        "        \n",
        "        # Keeping track of our cost function value\n",
        "        cost_list.append(cost)\n",
        "        \n",
        "        if(i%(iterations/100) == 0):\n",
        "            print(\"cost after \", i, \"iteration is : \", cost)\n",
        "        \n",
        "    return W, B, cost_list\n"
      ],
      "metadata": {
        "id": "JeqCtNZ2HOuS"
      },
      "execution_count": 40,
      "outputs": []
    },
    {
      "cell_type": "code",
      "source": [
        "def sigmoid(x):\n",
        "  return 1/(1+np.exp(-x))"
      ],
      "metadata": {
        "id": "Rsb6rjFSN_aw"
      },
      "execution_count": 37,
      "outputs": []
    },
    {
      "cell_type": "code",
      "source": [
        "iterations= 1000\n",
        "learning_rate= 0.005\n",
        "W, B, cost_list = model(X_train, Y_train, learning_rate = learning_rate, iterations = iterations)"
      ],
      "metadata": {
        "colab": {
          "base_uri": "https://localhost:8080/"
        },
        "id": "nW-10KBbSxL5",
        "outputId": "d0deb5ab-dd2f-4f08-d09b-e6e2db2fbf36"
      },
      "execution_count": 41,
      "outputs": [
        {
          "output_type": "stream",
          "name": "stdout",
          "text": [
            "cost after  0 iteration is :  0.6931471805599454\n",
            "cost after  10 iteration is :  0.688262591409407\n",
            "cost after  20 iteration is :  0.6995586409429999\n",
            "cost after  30 iteration is :  0.7000206976098428\n",
            "cost after  40 iteration is :  0.6984703230458713\n",
            "cost after  50 iteration is :  0.6967180114441135\n",
            "cost after  60 iteration is :  0.6949924682873229\n",
            "cost after  70 iteration is :  0.6933068304561415\n",
            "cost after  80 iteration is :  0.6916582824008805\n",
            "cost after  90 iteration is :  0.6900448247249259\n",
            "cost after  100 iteration is :  0.6884650077492463\n",
            "cost after  110 iteration is :  0.6869175376768974\n",
            "cost after  120 iteration is :  0.6854011922927928\n",
            "cost after  130 iteration is :  0.6839148078805564\n",
            "cost after  140 iteration is :  0.6824572759294121\n",
            "cost after  150 iteration is :  0.6810275406607206\n",
            "cost after  160 iteration is :  0.6796245965803902\n",
            "cost after  170 iteration is :  0.6782474860618176\n",
            "cost after  180 iteration is :  0.6768952969830455\n",
            "cost after  190 iteration is :  0.6755671604294955\n",
            "cost after  200 iteration is :  0.6742622484692712\n",
            "cost after  210 iteration is :  0.672979772006197\n",
            "cost after  220 iteration is :  0.6717189787144493\n",
            "cost after  230 iteration is :  0.6704791510574964\n",
            "cost after  240 iteration is :  0.6692596043930726\n",
            "cost after  250 iteration is :  0.668059685165025\n",
            "cost after  260 iteration is :  0.6668787691821151\n",
            "cost after  270 iteration is :  0.6657162599831841\n",
            "cost after  280 iteration is :  0.6645715872875279\n",
            "cost after  290 iteration is :  0.6634442055288376\n",
            "cost after  300 iteration is :  0.6623335924706679\n",
            "cost after  310 iteration is :  0.6612392479010468\n",
            "cost after  320 iteration is :  0.6601606924035825\n",
            "cost after  330 iteration is :  0.6590974662022113\n",
            "cost after  340 iteration is :  0.6580491280765548\n",
            "cost after  350 iteration is :  0.6570152543447674\n",
            "cost after  360 iteration is :  0.6559954379106573\n",
            "cost after  370 iteration is :  0.6549892873718419\n",
            "cost after  380 iteration is :  0.6539964261856912\n",
            "cost after  390 iteration is :  0.6530164918898305\n",
            "cost after  400 iteration is :  0.6520491353740268\n",
            "cost after  410 iteration is :  0.6510940202003477\n",
            "cost after  420 iteration is :  0.6501508219685593\n",
            "cost after  430 iteration is :  0.6492192277238384\n",
            "cost after  440 iteration is :  0.6482989354039669\n",
            "cost after  450 iteration is :  0.6473896533233158\n",
            "cost after  460 iteration is :  0.6464910996910199\n",
            "cost after  470 iteration is :  0.6456030021608993\n",
            "cost after  480 iteration is :  0.6447250974108046\n",
            "cost after  490 iteration is :  0.6438571307491795\n",
            "cost after  500 iteration is :  0.6429988557467965\n",
            "cost after  510 iteration is :  0.6421500338917202\n",
            "cost after  520 iteration is :  0.6413104342656972\n",
            "cost after  530 iteration is :  0.6404798332402949\n",
            "cost after  540 iteration is :  0.6396580141912183\n",
            "cost after  550 iteration is :  0.6388447672293677\n",
            "cost after  560 iteration is :  0.6380398889472937\n",
            "cost after  570 iteration is :  0.6372431821798188\n",
            "cost after  580 iteration is :  0.636454455777694\n",
            "cost after  590 iteration is :  0.6356735243932469\n",
            "cost after  600 iteration is :  0.6349002082770738\n",
            "cost after  610 iteration is :  0.634134333084902\n",
            "cost after  620 iteration is :  0.633375729693828\n",
            "cost after  630 iteration is :  0.6326242340272112\n",
            "cost after  640 iteration is :  0.631879686887565\n",
            "cost after  650 iteration is :  0.6311419337968455\n",
            "cost after  660 iteration is :  0.6304108248435992\n",
            "cost after  670 iteration is :  0.6296862145364797\n",
            "cost after  680 iteration is :  0.6289679616636855\n",
            "cost after  690 iteration is :  0.628255929157922\n",
            "cost after  700 iteration is :  0.6275499839665226\n",
            "cost after  710 iteration is :  0.626849996926397\n",
            "cost after  720 iteration is :  0.6261558426435188\n",
            "cost after  730 iteration is :  0.6254673993766752\n",
            "cost after  740 iteration is :  0.624784548925243\n",
            "cost after  750 iteration is :  0.6241071765207669\n",
            "cost after  760 iteration is :  0.6234351707221437\n",
            "cost after  770 iteration is :  0.6227684233142322\n",
            "cost after  780 iteration is :  0.6221068292097229\n",
            "cost after  790 iteration is :  0.6214502863541195\n",
            "cost after  800 iteration is :  0.6207986956336957\n",
            "cost after  810 iteration is :  0.6201519607863036\n",
            "cost after  820 iteration is :  0.6195099883149153\n",
            "cost after  830 iteration is :  0.6188726874037987\n",
            "cost after  840 iteration is :  0.6182399698372224\n",
            "cost after  850 iteration is :  0.617611749920607\n",
            "cost after  860 iteration is :  0.616987944404032\n",
            "cost after  870 iteration is :  0.6163684724080281\n",
            "cost after  880 iteration is :  0.6157532553515664\n",
            "cost after  890 iteration is :  0.6151422168821963\n",
            "cost after  900 iteration is :  0.6145352828082468\n",
            "cost after  910 iteration is :  0.6139323810330412\n",
            "cost after  920 iteration is :  0.6133334414910594\n",
            "cost after  930 iteration is :  0.6127383960859979\n",
            "cost after  940 iteration is :  0.6121471786306655\n",
            "cost after  950 iteration is :  0.6115597247886705\n",
            "cost after  960 iteration is :  0.6109759720178398\n",
            "cost after  970 iteration is :  0.6103958595153366\n",
            "cost after  980 iteration is :  0.609819328164409\n",
            "cost after  990 iteration is :  0.6092463204827462\n"
          ]
        }
      ]
    }
  ]
}