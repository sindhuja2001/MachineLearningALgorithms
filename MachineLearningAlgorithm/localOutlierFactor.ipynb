{
  "nbformat": 4,
  "nbformat_minor": 0,
  "metadata": {
    "colab": {
      "provenance": []
    },
    "kernelspec": {
      "name": "python3",
      "display_name": "Python 3"
    },
    "language_info": {
      "name": "python"
    }
  },
  "cells": [
    {
      "cell_type": "code",
      "execution_count": 2,
      "metadata": {
        "id": "e_AF8VQWqWxi"
      },
      "outputs": [],
      "source": [
        "import numpy as np\n",
        "import pandas as pd\n",
        "import matplotlib.pyplot as plt\n",
        "import seaborn as sns\n",
        "from sklearn.neighbors import LocalOutlierFactor "
      ]
    },
    {
      "cell_type": "code",
      "source": [
        "df= pd.DataFrame(np.array([[0, 1], [1, 1], [1, 2], [2, 2], [5, 6]]), columns= [\"x\", \"y\"], index= [0, 1, 2, 3, 4])\n",
        "\n"
      ],
      "metadata": {
        "id": "F7od0O7w0HYj"
      },
      "execution_count": 3,
      "outputs": []
    },
    {
      "cell_type": "code",
      "source": [
        "plt.scatter(df[\"x\"], df[\"y\"], color = \"b\")\n",
        "plt.grid()\n"
      ],
      "metadata": {
        "colab": {
          "base_uri": "https://localhost:8080/",
          "height": 265
        },
        "id": "bMczXuDE04PA",
        "outputId": "a1b94ba9-3f2f-41fc-9651-801cb5d81f9b"
      },
      "execution_count": 5,
      "outputs": [
        {
          "output_type": "display_data",
          "data": {
            "text/plain": [
              "<Figure size 432x288 with 1 Axes>"
            ],
            "image/png": "[encoded data removed]"
          },
          "metadata": {
            "needs_background": "light"
          }
        }
      ]
    },
    {
      "cell_type": "code",
      "source": [
        "model= LocalOutlierFactor(n_neighbors= 2, metric= \"manhattan\", contamination= 0.02)\n",
        "y_pred= model.fit_predict(df)"
      ],
      "metadata": {
        "id": "yZqDN3Fy1Rgs"
      },
      "execution_count": 6,
      "outputs": []
    },
    {
      "cell_type": "code",
      "source": [
        "outlier_index = (y_pred== -1)\n",
        "outlier_values = df.iloc[outlier_index]\n",
        "plt.scatter(df[\"x\"], df[\"y\"], color = \"b\", s = 65)\n",
        "plt.scatter(outlier_values[\"x\"], outlier_values[\"y\"], color = \"r\")"
      ],
      "metadata": {
        "colab": {
          "base_uri": "https://localhost:8080/",
          "height": 282
        },
        "id": "4CnN3dxt1ilt",
        "outputId": "b98be690-fe64-425c-92cf-a6347dbc9edd"
      },
      "execution_count": 15,
      "outputs": [
        {
          "output_type": "execute_result",
          "data": {
            "text/plain": [
              "<matplotlib.collections.PathCollection at 0x7f581d835700>"
            ]
          },
          "metadata": {},
          "execution_count": 15
        },
        {
          "output_type": "display_data",
          "data": {
            "text/plain": [
              "<Figure size 432x288 with 1 Axes>"
            ],
            "image/png": "[encoded data removed]"
          },
          "metadata": {
            "needs_background": "light"
          }
        }
      ]
    }
  ]
}